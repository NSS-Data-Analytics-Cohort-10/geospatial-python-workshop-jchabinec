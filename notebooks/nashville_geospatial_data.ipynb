{
 "cells": [
  {
   "cell_type": "code",
   "execution_count": 1,
   "metadata": {},
   "outputs": [],
   "source": [
    "#from shapely.geometry import Point\n",
    "import pandas as pd\n",
    "import geopandas as gpd\n",
    "import matplotlib.pyplot as plt\n",
    "import folium\n",
    "from folium.plugins import MarkerCluster\n",
    "from folium.plugins import FastMarkerCluster"
   ]
  },
  {
   "cell_type": "markdown",
   "metadata": {},
   "source": [
    "Load the Nashville Zip Code data & Nashville Business Improvement District data"
   ]
  },
  {
   "cell_type": "code",
   "execution_count": 2,
   "metadata": {},
   "outputs": [
    {
     "name": "stdout",
     "output_type": "stream",
     "text": [
      "EPSG:4326\n"
     ]
    },
    {
     "data": {
      "text/html": [
       "<div>\n",
       "<style scoped>\n",
       "    .dataframe tbody tr th:only-of-type {\n",
       "        vertical-align: middle;\n",
       "    }\n",
       "\n",
       "    .dataframe tbody tr th {\n",
       "        vertical-align: top;\n",
       "    }\n",
       "\n",
       "    .dataframe thead th {\n",
       "        text-align: right;\n",
       "    }\n",
       "</style>\n",
       "<table border=\"1\" class=\"dataframe\">\n",
       "  <thead>\n",
       "    <tr style=\"text-align: right;\">\n",
       "      <th></th>\n",
       "      <th>zip</th>\n",
       "      <th>objectid</th>\n",
       "      <th>po_name</th>\n",
       "      <th>shape_stlength</th>\n",
       "      <th>shape_starea</th>\n",
       "      <th>geometry</th>\n",
       "    </tr>\n",
       "  </thead>\n",
       "  <tbody>\n",
       "    <tr>\n",
       "      <th>0</th>\n",
       "      <td>37115</td>\n",
       "      <td>1</td>\n",
       "      <td>MADISON</td>\n",
       "      <td>178783.02488886821</td>\n",
       "      <td>596553400.57885742</td>\n",
       "      <td>MULTIPOLYGON (((-86.68725 36.31821, -86.68722 ...</td>\n",
       "    </tr>\n",
       "    <tr>\n",
       "      <th>1</th>\n",
       "      <td>37216</td>\n",
       "      <td>3</td>\n",
       "      <td>NASHVILLE</td>\n",
       "      <td>75820.997821400058</td>\n",
       "      <td>188884682.28344727</td>\n",
       "      <td>MULTIPOLYGON (((-86.73451 36.23774, -86.73425 ...</td>\n",
       "    </tr>\n",
       "    <tr>\n",
       "      <th>2</th>\n",
       "      <td>37204</td>\n",
       "      <td>9</td>\n",
       "      <td>NASHVILLE</td>\n",
       "      <td>93180.292250425613</td>\n",
       "      <td>200664795.51708984</td>\n",
       "      <td>MULTIPOLYGON (((-86.77914 36.13424, -86.77923 ...</td>\n",
       "    </tr>\n",
       "    <tr>\n",
       "      <th>3</th>\n",
       "      <td>37027</td>\n",
       "      <td>11</td>\n",
       "      <td>BRENTWOOD</td>\n",
       "      <td>159760.6942933173</td>\n",
       "      <td>174978422.04101562</td>\n",
       "      <td>MULTIPOLYGON (((-86.81258 36.06319, -86.81263 ...</td>\n",
       "    </tr>\n",
       "    <tr>\n",
       "      <th>4</th>\n",
       "      <td>37064</td>\n",
       "      <td>18</td>\n",
       "      <td>FRANKLIN</td>\n",
       "      <td>28995.828320601937</td>\n",
       "      <td>46969608.005737305</td>\n",
       "      <td>MULTIPOLYGON (((-87.02197 36.01200, -87.02140 ...</td>\n",
       "    </tr>\n",
       "  </tbody>\n",
       "</table>\n",
       "</div>"
      ],
      "text/plain": [
       "     zip objectid    po_name      shape_stlength        shape_starea  \\\n",
       "0  37115        1    MADISON  178783.02488886821  596553400.57885742   \n",
       "1  37216        3  NASHVILLE  75820.997821400058  188884682.28344727   \n",
       "2  37204        9  NASHVILLE  93180.292250425613  200664795.51708984   \n",
       "3  37027       11  BRENTWOOD   159760.6942933173  174978422.04101562   \n",
       "4  37064       18   FRANKLIN  28995.828320601937  46969608.005737305   \n",
       "\n",
       "                                            geometry  \n",
       "0  MULTIPOLYGON (((-86.68725 36.31821, -86.68722 ...  \n",
       "1  MULTIPOLYGON (((-86.73451 36.23774, -86.73425 ...  \n",
       "2  MULTIPOLYGON (((-86.77914 36.13424, -86.77923 ...  \n",
       "3  MULTIPOLYGON (((-86.81258 36.06319, -86.81263 ...  \n",
       "4  MULTIPOLYGON (((-87.02197 36.01200, -87.02140 ...  "
      ]
     },
     "execution_count": 2,
     "metadata": {},
     "output_type": "execute_result"
    }
   ],
   "source": [
    "zipcodes = gpd.read_file('../data/zipcodes.geojson')\n",
    "print(zipcodes.crs)\n",
    "zipcodes.head( )"
   ]
  },
  {
   "cell_type": "markdown",
   "metadata": {},
   "source": [
    "Now read in the capital improvements data."
   ]
  },
  {
   "cell_type": "code",
   "execution_count": 3,
   "metadata": {},
   "outputs": [
    {
     "name": "stdout",
     "output_type": "stream",
     "text": [
      "(477, 32)\n"
     ]
    },
    {
     "data": {
      "text/html": [
       "<div>\n",
       "<style scoped>\n",
       "    .dataframe tbody tr th:only-of-type {\n",
       "        vertical-align: middle;\n",
       "    }\n",
       "\n",
       "    .dataframe tbody tr th {\n",
       "        vertical-align: top;\n",
       "    }\n",
       "\n",
       "    .dataframe thead th {\n",
       "        text-align: right;\n",
       "    }\n",
       "</style>\n",
       "<table border=\"1\" class=\"dataframe\">\n",
       "  <thead>\n",
       "    <tr style=\"text-align: right;\">\n",
       "      <th></th>\n",
       "      <th>Project ID</th>\n",
       "      <th>Organization</th>\n",
       "      <th>Department</th>\n",
       "      <th>Division</th>\n",
       "      <th>Project Number</th>\n",
       "      <th>Project Category</th>\n",
       "      <th>Project Type</th>\n",
       "      <th>Project Sub-Type</th>\n",
       "      <th>Phase</th>\n",
       "      <th>Priority</th>\n",
       "      <th>...</th>\n",
       "      <th>Actual Cost</th>\n",
       "      <th>Metro Cost</th>\n",
       "      <th>State Cost</th>\n",
       "      <th>Federal Cost</th>\n",
       "      <th>Other Cost</th>\n",
       "      <th>Total Cost</th>\n",
       "      <th>Longitude</th>\n",
       "      <th>Latitude</th>\n",
       "      <th>Layer Name</th>\n",
       "      <th>Mapped Location</th>\n",
       "    </tr>\n",
       "  </thead>\n",
       "  <tbody>\n",
       "    <tr>\n",
       "      <th>0</th>\n",
       "      <td>7120</td>\n",
       "      <td>Metro Nashville</td>\n",
       "      <td>Metro Public Works</td>\n",
       "      <td>Engineering</td>\n",
       "      <td>21-060710410857</td>\n",
       "      <td>Bikeway</td>\n",
       "      <td>Protected Bike Lane</td>\n",
       "      <td>New</td>\n",
       "      <td>90% Plan Design</td>\n",
       "      <td>NaN</td>\n",
       "      <td>...</td>\n",
       "      <td>0.00</td>\n",
       "      <td>0.00</td>\n",
       "      <td>0.0</td>\n",
       "      <td>0</td>\n",
       "      <td>0</td>\n",
       "      <td>227000.00</td>\n",
       "      <td>-86.777767</td>\n",
       "      <td>36.164337</td>\n",
       "      <td>Project Line</td>\n",
       "      <td>POINT (-86.777767 36.164337)</td>\n",
       "    </tr>\n",
       "    <tr>\n",
       "      <th>1</th>\n",
       "      <td>8332</td>\n",
       "      <td>Metro Nashville</td>\n",
       "      <td>Metro Public Works</td>\n",
       "      <td>Engineering</td>\n",
       "      <td>2023-R-4</td>\n",
       "      <td>Capital</td>\n",
       "      <td>Intersection Improvements</td>\n",
       "      <td>Rehabilitation</td>\n",
       "      <td>Planning/Scoping</td>\n",
       "      <td>NaN</td>\n",
       "      <td>...</td>\n",
       "      <td>0.00</td>\n",
       "      <td>0.00</td>\n",
       "      <td>0.0</td>\n",
       "      <td>0</td>\n",
       "      <td>0</td>\n",
       "      <td>0.00</td>\n",
       "      <td>-86.680802</td>\n",
       "      <td>36.026929</td>\n",
       "      <td>Project Poly</td>\n",
       "      <td>POINT (-86.680802 36.026929)</td>\n",
       "    </tr>\n",
       "    <tr>\n",
       "      <th>2</th>\n",
       "      <td>5070</td>\n",
       "      <td>Metro Nashville</td>\n",
       "      <td>Metro Public Works</td>\n",
       "      <td>Engineering</td>\n",
       "      <td>2016-R-041</td>\n",
       "      <td>Sidewalk</td>\n",
       "      <td>New Sidewalk</td>\n",
       "      <td>New</td>\n",
       "      <td>Construction/Closeout/Warranty</td>\n",
       "      <td>NaN</td>\n",
       "      <td>...</td>\n",
       "      <td>358547.67</td>\n",
       "      <td>2057712.98</td>\n",
       "      <td>0.0</td>\n",
       "      <td>0</td>\n",
       "      <td>0</td>\n",
       "      <td>358547.67</td>\n",
       "      <td>-86.778107</td>\n",
       "      <td>36.247520</td>\n",
       "      <td>Project Line</td>\n",
       "      <td>POINT (-86.778107 36.24752)</td>\n",
       "    </tr>\n",
       "  </tbody>\n",
       "</table>\n",
       "<p>3 rows × 32 columns</p>\n",
       "</div>"
      ],
      "text/plain": [
       "   Project ID     Organization          Department     Division  \\\n",
       "0        7120  Metro Nashville  Metro Public Works  Engineering   \n",
       "1        8332  Metro Nashville  Metro Public Works  Engineering   \n",
       "2        5070  Metro Nashville  Metro Public Works  Engineering   \n",
       "\n",
       "    Project Number Project Category               Project Type  \\\n",
       "0  21-060710410857          Bikeway        Protected Bike Lane   \n",
       "1         2023-R-4          Capital  Intersection Improvements   \n",
       "2       2016-R-041         Sidewalk               New Sidewalk   \n",
       "\n",
       "  Project Sub-Type                           Phase  Priority  ... Actual Cost  \\\n",
       "0              New                 90% Plan Design       NaN  ...        0.00   \n",
       "1   Rehabilitation                Planning/Scoping       NaN  ...        0.00   \n",
       "2              New  Construction/Closeout/Warranty       NaN  ...   358547.67   \n",
       "\n",
       "   Metro Cost State Cost Federal Cost Other Cost Total Cost  Longitude  \\\n",
       "0        0.00        0.0            0          0  227000.00 -86.777767   \n",
       "1        0.00        0.0            0          0       0.00 -86.680802   \n",
       "2  2057712.98        0.0            0          0  358547.67 -86.778107   \n",
       "\n",
       "    Latitude    Layer Name               Mapped Location  \n",
       "0  36.164337  Project Line  POINT (-86.777767 36.164337)  \n",
       "1  36.026929  Project Poly  POINT (-86.680802 36.026929)  \n",
       "2  36.247520  Project Line   POINT (-86.778107 36.24752)  \n",
       "\n",
       "[3 rows x 32 columns]"
      ]
     },
     "execution_count": 3,
     "metadata": {},
     "output_type": "execute_result"
    }
   ],
   "source": [
    "capital_imp = pd.read_csv('../data/NDOT_Capital_Projects.csv')\n",
    "print(capital_imp.shape)\n",
    "capital_imp.head(3)"
   ]
  },
  {
   "cell_type": "code",
   "execution_count": 4,
   "metadata": {},
   "outputs": [
    {
     "name": "stdout",
     "output_type": "stream",
     "text": [
      "<class 'pandas.core.frame.DataFrame'>\n",
      "RangeIndex: 477 entries, 0 to 476\n",
      "Data columns (total 32 columns):\n",
      " #   Column            Non-Null Count  Dtype  \n",
      "---  ------            --------------  -----  \n",
      " 0   Project ID        477 non-null    int64  \n",
      " 1   Organization      477 non-null    object \n",
      " 2   Department        477 non-null    object \n",
      " 3   Division          477 non-null    object \n",
      " 4   Project Number    468 non-null    object \n",
      " 5   Project Category  477 non-null    object \n",
      " 6   Project Type      477 non-null    object \n",
      " 7   Project Sub-Type  477 non-null    object \n",
      " 8   Phase             477 non-null    object \n",
      " 9   Priority          0 non-null      float64\n",
      " 10  Status            477 non-null    object \n",
      " 11  Project Name      477 non-null    object \n",
      " 12  Description       477 non-null    object \n",
      " 13  Justification     477 non-null    object \n",
      " 14  Project Location  477 non-null    object \n",
      " 15  Notes             475 non-null    object \n",
      " 16  Council District  477 non-null    object \n",
      " 17  Estimated Start   426 non-null    object \n",
      " 18  Estimated End     423 non-null    object \n",
      " 19  Plan Cost         477 non-null    float64\n",
      " 20  Estimated Cost    477 non-null    float64\n",
      " 21  PO Cost           477 non-null    float64\n",
      " 22  Actual Cost       477 non-null    float64\n",
      " 23  Metro Cost        477 non-null    float64\n",
      " 24  State Cost        477 non-null    float64\n",
      " 25  Federal Cost      477 non-null    int64  \n",
      " 26  Other Cost        477 non-null    int64  \n",
      " 27  Total Cost        477 non-null    float64\n",
      " 28  Longitude         477 non-null    float64\n",
      " 29  Latitude          477 non-null    float64\n",
      " 30  Layer Name        477 non-null    object \n",
      " 31  Mapped Location   477 non-null    object \n",
      "dtypes: float64(10), int64(3), object(19)\n",
      "memory usage: 119.4+ KB\n"
     ]
    }
   ],
   "source": [
    "capital_imp.info()"
   ]
  },
  {
   "cell_type": "code",
   "execution_count": 5,
   "metadata": {},
   "outputs": [
    {
     "data": {
      "text/plain": [
       "<Geographic 2D CRS: EPSG:4326>\n",
       "Name: WGS 84\n",
       "Axis Info [ellipsoidal]:\n",
       "- Lat[north]: Geodetic latitude (degree)\n",
       "- Lon[east]: Geodetic longitude (degree)\n",
       "Area of Use:\n",
       "- name: World.\n",
       "- bounds: (-180.0, -90.0, 180.0, 90.0)\n",
       "Datum: World Geodetic System 1984 ensemble\n",
       "- Ellipsoid: WGS 84\n",
       "- Prime Meridian: Greenwich"
      ]
     },
     "execution_count": 5,
     "metadata": {},
     "output_type": "execute_result"
    }
   ],
   "source": [
    "zipcodes.crs"
   ]
  },
  {
   "cell_type": "markdown",
   "metadata": {},
   "source": [
    "Create GeoDataFrame"
   ]
  },
  {
   "cell_type": "code",
   "execution_count": 6,
   "metadata": {},
   "outputs": [
    {
     "data": {
      "text/plain": [
       "geopandas.geodataframe.GeoDataFrame"
      ]
     },
     "execution_count": 6,
     "metadata": {},
     "output_type": "execute_result"
    }
   ],
   "source": [
    "zipcodes = zipcodes[['zip', 'po_name', 'geometry']]\n",
    "capital_imp= capital_imp[['Department', 'Division', 'Project Category', 'Project Type', 'Phase', 'Total Cost', 'Longitude', 'Latitude']]\n",
    "capital_geo = gpd.GeoDataFrame(capital_imp, crs= zipcodes.crs, geometry=gpd.points_from_xy(capital_imp.Longitude, capital_imp.Latitude))\n",
    "type(capital_geo)"
   ]
  },
  {
   "cell_type": "markdown",
   "metadata": {},
   "source": [
    "Combine with a spatial join"
   ]
  },
  {
   "cell_type": "code",
   "execution_count": 7,
   "metadata": {},
   "outputs": [
    {
     "data": {
      "text/html": [
       "<div>\n",
       "<style scoped>\n",
       "    .dataframe tbody tr th:only-of-type {\n",
       "        vertical-align: middle;\n",
       "    }\n",
       "\n",
       "    .dataframe tbody tr th {\n",
       "        vertical-align: top;\n",
       "    }\n",
       "\n",
       "    .dataframe thead th {\n",
       "        text-align: right;\n",
       "    }\n",
       "</style>\n",
       "<table border=\"1\" class=\"dataframe\">\n",
       "  <thead>\n",
       "    <tr style=\"text-align: right;\">\n",
       "      <th></th>\n",
       "      <th>Department</th>\n",
       "      <th>Division</th>\n",
       "      <th>Project Category</th>\n",
       "      <th>Project Type</th>\n",
       "      <th>Phase</th>\n",
       "      <th>Total Cost</th>\n",
       "      <th>Longitude</th>\n",
       "      <th>Latitude</th>\n",
       "      <th>geometry</th>\n",
       "      <th>index_right</th>\n",
       "      <th>zip</th>\n",
       "      <th>po_name</th>\n",
       "    </tr>\n",
       "  </thead>\n",
       "  <tbody>\n",
       "    <tr>\n",
       "      <th>0</th>\n",
       "      <td>Metro Public Works</td>\n",
       "      <td>Engineering</td>\n",
       "      <td>Bikeway</td>\n",
       "      <td>Protected Bike Lane</td>\n",
       "      <td>90% Plan Design</td>\n",
       "      <td>227000.00</td>\n",
       "      <td>-86.777767</td>\n",
       "      <td>36.164337</td>\n",
       "      <td>POINT (-86.77777 36.16434)</td>\n",
       "      <td>36</td>\n",
       "      <td>37201</td>\n",
       "      <td>NASHVILLE</td>\n",
       "    </tr>\n",
       "    <tr>\n",
       "      <th>8</th>\n",
       "      <td>Metro Public Works</td>\n",
       "      <td>Engineering</td>\n",
       "      <td>Sidewalk</td>\n",
       "      <td>Sidewalk Repairs</td>\n",
       "      <td>Complete</td>\n",
       "      <td>680796.79</td>\n",
       "      <td>-86.774708</td>\n",
       "      <td>36.161951</td>\n",
       "      <td>POINT (-86.77471 36.16195)</td>\n",
       "      <td>36</td>\n",
       "      <td>37201</td>\n",
       "      <td>NASHVILLE</td>\n",
       "    </tr>\n",
       "    <tr>\n",
       "      <th>9</th>\n",
       "      <td>Metro Public Works</td>\n",
       "      <td>Engineering</td>\n",
       "      <td>Sidewalk</td>\n",
       "      <td>Sidewalk Repairs</td>\n",
       "      <td>Complete</td>\n",
       "      <td>850143.79</td>\n",
       "      <td>-86.774843</td>\n",
       "      <td>36.162175</td>\n",
       "      <td>POINT (-86.77484 36.16217)</td>\n",
       "      <td>36</td>\n",
       "      <td>37201</td>\n",
       "      <td>NASHVILLE</td>\n",
       "    </tr>\n",
       "    <tr>\n",
       "      <th>51</th>\n",
       "      <td>Metro Public Works</td>\n",
       "      <td>Engineering</td>\n",
       "      <td>Sidewalk</td>\n",
       "      <td>Sidewalk Repairs</td>\n",
       "      <td>Complete</td>\n",
       "      <td>795675.79</td>\n",
       "      <td>-86.775514</td>\n",
       "      <td>36.161615</td>\n",
       "      <td>POINT (-86.77551 36.16161)</td>\n",
       "      <td>36</td>\n",
       "      <td>37201</td>\n",
       "      <td>NASHVILLE</td>\n",
       "    </tr>\n",
       "    <tr>\n",
       "      <th>61</th>\n",
       "      <td>Metro Public Works</td>\n",
       "      <td>Engineering</td>\n",
       "      <td>Sidewalk</td>\n",
       "      <td>New Sidewalk</td>\n",
       "      <td>Construction/Closeout/Warranty</td>\n",
       "      <td>1500000.00</td>\n",
       "      <td>-86.776494</td>\n",
       "      <td>36.161196</td>\n",
       "      <td>POINT (-86.77649 36.16120)</td>\n",
       "      <td>36</td>\n",
       "      <td>37201</td>\n",
       "      <td>NASHVILLE</td>\n",
       "    </tr>\n",
       "  </tbody>\n",
       "</table>\n",
       "</div>"
      ],
      "text/plain": [
       "            Department     Division Project Category         Project Type  \\\n",
       "0   Metro Public Works  Engineering          Bikeway  Protected Bike Lane   \n",
       "8   Metro Public Works  Engineering         Sidewalk     Sidewalk Repairs   \n",
       "9   Metro Public Works  Engineering         Sidewalk     Sidewalk Repairs   \n",
       "51  Metro Public Works  Engineering         Sidewalk     Sidewalk Repairs   \n",
       "61  Metro Public Works  Engineering         Sidewalk         New Sidewalk   \n",
       "\n",
       "                             Phase  Total Cost  Longitude   Latitude  \\\n",
       "0                  90% Plan Design   227000.00 -86.777767  36.164337   \n",
       "8                         Complete   680796.79 -86.774708  36.161951   \n",
       "9                         Complete   850143.79 -86.774843  36.162175   \n",
       "51                        Complete   795675.79 -86.775514  36.161615   \n",
       "61  Construction/Closeout/Warranty  1500000.00 -86.776494  36.161196   \n",
       "\n",
       "                      geometry  index_right    zip    po_name  \n",
       "0   POINT (-86.77777 36.16434)           36  37201  NASHVILLE  \n",
       "8   POINT (-86.77471 36.16195)           36  37201  NASHVILLE  \n",
       "9   POINT (-86.77484 36.16217)           36  37201  NASHVILLE  \n",
       "51  POINT (-86.77551 36.16161)           36  37201  NASHVILLE  \n",
       "61  POINT (-86.77649 36.16120)           36  37201  NASHVILLE  "
      ]
     },
     "execution_count": 7,
     "metadata": {},
     "output_type": "execute_result"
    }
   ],
   "source": [
    "projects_by_zip = gpd.sjoin(capital_geo, zipcodes, predicate='within')\n",
    "projects_by_zip.head()"
   ]
  },
  {
   "cell_type": "markdown",
   "metadata": {},
   "source": [
    "How many projects are there of each type?"
   ]
  },
  {
   "cell_type": "code",
   "execution_count": 10,
   "metadata": {},
   "outputs": [
    {
     "data": {
      "text/plain": [
       "Project Type\n",
       "New Sidewalk                 132\n",
       "Bike Lane                     68\n",
       "Paving                        63\n",
       "Bridge Repairs                38\n",
       "Shared Bikeway                36\n",
       "Protected Bike Lane           26\n",
       "Intersection Improvements     25\n",
       "Sidewalk Repairs              20\n",
       "Guardrail Repairs             14\n",
       "Buffered Bike Lane            10\n",
       "Fall Paving                    6\n",
       "Bridge Replacement             6\n",
       "Culvert Replacement            5\n",
       "New Guardrail                  5\n",
       "Information Technology         5\n",
       "Special Ops                    5\n",
       "Roadway Improvements           4\n",
       "New Traffic Signal             2\n",
       "Replace Bridge Deck            2\n",
       "New Bridge                     2\n",
       "New Pedestrian Signal          1\n",
       "Summer Paving                  1\n",
       "Culvert Repairs                1\n",
       "Name: count, dtype: int64"
      ]
     },
     "execution_count": 10,
     "metadata": {},
     "output_type": "execute_result"
    }
   ],
   "source": [
    "projects_by_zip['Project Type'].value_counts()"
   ]
  },
  {
   "cell_type": "markdown",
   "metadata": {},
   "source": [
    "New sidewalk cnstruction is the most common project type. Look at these projects by zip code."
   ]
  },
  {
   "cell_type": "code",
   "execution_count": null,
   "metadata": {},
   "outputs": [],
   "source": []
  }
 ],
 "metadata": {
  "kernelspec": {
   "display_name": "geospatial",
   "language": "python",
   "name": "python3"
  },
  "language_info": {
   "codemirror_mode": {
    "name": "ipython",
    "version": 3
   },
   "file_extension": ".py",
   "mimetype": "text/x-python",
   "name": "python",
   "nbconvert_exporter": "python",
   "pygments_lexer": "ipython3",
   "version": "3.10.13"
  }
 },
 "nbformat": 4,
 "nbformat_minor": 2
}
